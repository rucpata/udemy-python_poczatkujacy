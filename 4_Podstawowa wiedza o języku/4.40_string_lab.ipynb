{
 "cells": [
  {
   "cell_type": "code",
   "execution_count": 1,
   "metadata": {},
   "outputs": [
    {
     "ename": "SyntaxError",
     "evalue": "invalid syntax (<ipython-input-1-68a2b17ec2b0>, line 1)",
     "output_type": "error",
     "traceback": [
      "\u001b[0;36m  File \u001b[0;32m\"<ipython-input-1-68a2b17ec2b0>\"\u001b[0;36m, line \u001b[0;32m1\u001b[0m\n\u001b[0;31m    article=Monty Python (also collectively known as the Pythons)[2][3] are a British surreal comedy group who created the sketch comedy television show Monty Python's Flying Circus, which first aired on the BBC in 1969. Forty-five episodes were made over four series. The Python phenomenon developed from the television series into something larger in scope and impact, including touring stage shows, films, numerous albums, several books, and musicals. The Pythons' influence on comedy has been compared to the Beatles' influence on music.[4][5][6] Regarded as enduring icons of 1970s pop culture, their sketch show has been referred to as being “an important moment in the evolution of television comedy\".[7]\u001b[0m\n\u001b[0m                       ^\u001b[0m\n\u001b[0;31mSyntaxError\u001b[0m\u001b[0;31m:\u001b[0m invalid syntax\n"
     ]
    }
   ],
   "source": [
    "article=Monty Python (also collectively known as the Pythons)[2][3] are a British surreal comedy group who created the sketch comedy television show Monty Python's Flying Circus, which first aired on the BBC in 1969. Forty-five episodes were made over four series. The Python phenomenon developed from the television series into something larger in scope and impact, including touring stage shows, films, numerous albums, several books, and musicals. The Pythons' influence on comedy has been compared to the Beatles' influence on music.[4][5][6] Regarded as enduring icons of 1970s pop culture, their sketch show has been referred to as being “an important moment in the evolution of television comedy\".[7]"
   ]
  },
  {
   "cell_type": "code",
   "execution_count": 2,
   "metadata": {},
   "outputs": [
    {
     "ename": "SyntaxError",
     "evalue": "invalid syntax (<ipython-input-2-89bcbae06206>, line 1)",
     "output_type": "error",
     "traceback": [
      "\u001b[0;36m  File \u001b[0;32m\"<ipython-input-2-89bcbae06206>\"\u001b[0;36m, line \u001b[0;32m1\u001b[0m\n\u001b[0;31m    article=\"Monty Python (also collectively known as the Pythons)[2][3] are a British surreal comedy group who created the sketch comedy television show Monty Python's Flying Circus, which first aired on the BBC in 1969. Forty-five episodes were made over four series. The Python phenomenon developed from the television series into something larger in scope and impact, including touring stage shows, films, numerous albums, several books, and musicals. The Pythons' influence on comedy has been compared to the Beatles' influence on music.[4][5][6] Regarded as enduring icons of 1970s pop culture, their sketch show has been referred to as being “an important moment in the evolution of television comedy\".[7]\"\u001b[0m\n\u001b[0m                                                                                                                                                                                                                                                                                                                                                                                                                                                                                                                                                                                                                                                                                                                                     ^\u001b[0m\n\u001b[0;31mSyntaxError\u001b[0m\u001b[0;31m:\u001b[0m invalid syntax\n"
     ]
    }
   ],
   "source": [
    "article=\"Monty Python (also collectively known as the Pythons)[2][3] are a British surreal comedy group who created the sketch comedy television show Monty Python's Flying Circus, which first aired on the BBC in 1969. Forty-five episodes were made over four series. The Python phenomenon developed from the television series into something larger in scope and impact, including touring stage shows, films, numerous albums, several books, and musicals. The Pythons' influence on comedy has been compared to the Beatles' influence on music.[4][5][6] Regarded as enduring icons of 1970s pop culture, their sketch show has been referred to as being “an important moment in the evolution of television comedy\".[7]\""
   ]
  },
  {
   "cell_type": "code",
   "execution_count": 3,
   "metadata": {},
   "outputs": [
    {
     "ename": "SyntaxError",
     "evalue": "invalid syntax (<ipython-input-3-76d083ab00dd>, line 1)",
     "output_type": "error",
     "traceback": [
      "\u001b[0;36m  File \u001b[0;32m\"<ipython-input-3-76d083ab00dd>\"\u001b[0;36m, line \u001b[0;32m1\u001b[0m\n\u001b[0;31m    article='Monty Python (also collectively known as the Pythons)[2][3] are a British surreal comedy group who created the sketch comedy television show Monty Python's Flying Circus, which first aired on the BBC in 1969. Forty-five episodes were made over four series. The Python phenomenon developed from the television series into something larger in scope and impact, including touring stage shows, films, numerous albums, several books, and musicals. The Pythons' influence on comedy has been compared to the Beatles' influence on music.[4][5][6] Regarded as enduring icons of 1970s pop culture, their sketch show has been referred to as being “an important moment in the evolution of television comedy\".[7]'\u001b[0m\n\u001b[0m                                                                                                                                                                       ^\u001b[0m\n\u001b[0;31mSyntaxError\u001b[0m\u001b[0;31m:\u001b[0m invalid syntax\n"
     ]
    }
   ],
   "source": [
    "article='Monty Python (also collectively known as the Pythons)[2][3] are a British surreal comedy group who created the sketch comedy television show Monty Python's Flying Circus, which first aired on the BBC in 1969. Forty-five episodes were made over four series. The Python phenomenon developed from the television series into something larger in scope and impact, including touring stage shows, films, numerous albums, several books, and musicals. The Pythons' influence on comedy has been compared to the Beatles' influence on music.[4][5][6] Regarded as enduring icons of 1970s pop culture, their sketch show has been referred to as being “an important moment in the evolution of television comedy\".[7]'"
   ]
  },
  {
   "cell_type": "code",
   "execution_count": 4,
   "metadata": {},
   "outputs": [
    {
     "ename": "SyntaxError",
     "evalue": "EOL while scanning string literal (<ipython-input-4-38265e3f646a>, line 1)",
     "output_type": "error",
     "traceback": [
      "\u001b[0;36m  File \u001b[0;32m\"<ipython-input-4-38265e3f646a>\"\u001b[0;36m, line \u001b[0;32m1\u001b[0m\n\u001b[0;31m    article=\"Monty Python (also collectively known as the Pythons)[2][3] are a British surreal comedy group who created the sketch comedy television show Monty Python\\'s Flying Circus, which first aired on the BBC in 1969. Forty-five episodes were made over four series. The Python phenomenon developed from the television series into something larger in scope and impact, including touring stage shows, films, numerous albums, several books, and musicals. The Pythons\\' influence on comedy has been compared to the Beatles\\' influence on music.[4][5][6] Regarded as enduring icons of 1970s pop culture, their sketch show has been referred to as being \\“an important moment in the evolution of television comedy\\\".[7]'\u001b[0m\n\u001b[0m                                                                                                                                                                                                                                                                                                                                                                                                                                                                                                                                                                                                                                                                                                                                              ^\u001b[0m\n\u001b[0;31mSyntaxError\u001b[0m\u001b[0;31m:\u001b[0m EOL while scanning string literal\n"
     ]
    }
   ],
   "source": [
    "article=\"Monty Python (also collectively known as the Pythons)[2][3] are a British surreal comedy group who created the sketch comedy television show Monty Python\\'s Flying Circus, which first aired on the BBC in 1969. Forty-five episodes were made over four series. The Python phenomenon developed from the television series into something larger in scope and impact, including touring stage shows, films, numerous albums, several books, and musicals. The Pythons\\' influence on comedy has been compared to the Beatles\\' influence on music.[4][5][6] Regarded as enduring icons of 1970s pop culture, their sketch show has been referred to as being \\“an important moment in the evolution of television comedy\\\".[7]'"
   ]
  },
  {
   "cell_type": "code",
   "execution_count": 5,
   "metadata": {},
   "outputs": [],
   "source": [
    "article='''Monty Python (also collectively known as the Pythons)[2][3] are a British surreal comedy group who created the sketch comedy television show Monty Python's Flying Circus, which first aired on the BBC in 1969. Forty-five episodes were made over four series. The Python phenomenon developed from the television series into something larger in scope and impact, including touring stage shows, films, numerous albums, several books, and musicals. The Pythons' influence on comedy has been compared to the Beatles' influence on music.[4][5][6] Regarded as enduring icons of 1970s pop culture, their sketch show has been referred to as being “an important moment in the evolution of television comedy\".[7]'''"
   ]
  },
  {
   "cell_type": "code",
   "execution_count": 6,
   "metadata": {},
   "outputs": [
    {
     "name": "stdout",
     "output_type": "stream",
     "text": [
      "Monty Python (also collectively known as the Pythons)[2][3] are a British surreal comedy group who created the sketch comedy television show Monty Python's Flying Circus, which first aired on the BBC in 1969. Forty-five episodes were made over four series. The Python phenomenon developed from the television series into something larger in scope and impact, including touring stage shows, films, numerous albums, several books, and musicals. The Pythons' influence on comedy has been compared to the Beatles' influence on music.[4][5][6] Regarded as enduring icons of 1970s pop culture, their sketch show has been referred to as being “an important moment in the evolution of television comedy\".[7]\n"
     ]
    }
   ],
   "source": [
    "print(article)"
   ]
  },
  {
   "cell_type": "code",
   "execution_count": 7,
   "metadata": {},
   "outputs": [
    {
     "data": {
      "text/plain": [
       "'MONTY PYTHON (ALSO COLLECTIVELY KNOWN AS THE PYTHONS)[2][3] ARE A BRITISH SURREAL COMEDY GROUP WHO CREATED THE SKETCH COMEDY TELEVISION SHOW MONTY PYTHON\\'S FLYING CIRCUS, WHICH FIRST AIRED ON THE BBC IN 1969. FORTY-FIVE EPISODES WERE MADE OVER FOUR SERIES. THE PYTHON PHENOMENON DEVELOPED FROM THE TELEVISION SERIES INTO SOMETHING LARGER IN SCOPE AND IMPACT, INCLUDING TOURING STAGE SHOWS, FILMS, NUMEROUS ALBUMS, SEVERAL BOOKS, AND MUSICALS. THE PYTHONS\\' INFLUENCE ON COMEDY HAS BEEN COMPARED TO THE BEATLES\\' INFLUENCE ON MUSIC.[4][5][6] REGARDED AS ENDURING ICONS OF 1970S POP CULTURE, THEIR SKETCH SHOW HAS BEEN REFERRED TO AS BEING “AN IMPORTANT MOMENT IN THE EVOLUTION OF TELEVISION COMEDY\".[7]'"
      ]
     },
     "execution_count": 7,
     "metadata": {},
     "output_type": "execute_result"
    }
   ],
   "source": [
    "article.upper()"
   ]
  },
  {
   "cell_type": "code",
   "execution_count": 8,
   "metadata": {},
   "outputs": [
    {
     "data": {
      "text/plain": [
       "'flying python (also collectively known as the pythons)[2][3] are a british surreal comedy group who created the sketch comedy television show flying python\\'s flying circus, which first aired on the bbc in 1969. forty-five episodes were made over four series. the python phenomenon developed from the television series into something larger in scope and impact, including touring stage shows, films, numerous albums, several books, and musicals. the pythons\\' influence on comedy has been compared to the beatles\\' influence on music.[4][5][6] regarded as enduring icons of 1970s pop culture, their sketch show has been referred to as being “an important moment in the evolution of television comedy\".[7]'"
      ]
     },
     "execution_count": 8,
     "metadata": {},
     "output_type": "execute_result"
    }
   ],
   "source": [
    "article.lower().replace('monty','flying')"
   ]
  },
  {
   "cell_type": "code",
   "execution_count": 9,
   "metadata": {},
   "outputs": [
    {
     "name": "stdout",
     "output_type": "stream",
     "text": [
      "['Monty', 'Python', '(also', 'collectively', 'known', 'as', 'the', 'Pythons)[2][3]', 'are', 'a', 'British', 'surreal', 'comedy', 'group', 'who', 'created', 'the', 'sketch', 'comedy', 'television', 'show', 'Monty', \"Python's\", 'Flying', 'Circus,', 'which', 'first', 'aired', 'on', 'the', 'BBC', 'in', '1969.', 'Forty-five', 'episodes', 'were', 'made', 'over', 'four', 'series.', 'The', 'Python', 'phenomenon', 'developed', 'from', 'the', 'television', 'series', 'into', 'something', 'larger', 'in', 'scope', 'and', 'impact,', 'including', 'touring', 'stage', 'shows,', 'films,', 'numerous', 'albums,', 'several', 'books,', 'and', 'musicals.', 'The', \"Pythons'\", 'influence', 'on', 'comedy', 'has', 'been', 'compared', 'to', 'the', \"Beatles'\", 'influence', 'on', 'music.[4][5][6]', 'Regarded', 'as', 'enduring', 'icons', 'of', '1970s', 'pop', 'culture,', 'their', 'sketch', 'show', 'has', 'been', 'referred', 'to', 'as', 'being', '“an', 'important', 'moment', 'in', 'the', 'evolution', 'of', 'television', 'comedy\".[7]']\n"
     ]
    }
   ],
   "source": [
    "print(article.split(' '))"
   ]
  },
  {
   "cell_type": "code",
   "execution_count": 10,
   "metadata": {},
   "outputs": [
    {
     "name": "stdout",
     "output_type": "stream",
     "text": [
      "word python appears 5 times\n"
     ]
    }
   ],
   "source": [
    "print('word python appears',article.lower().count('python'),'times')"
   ]
  },
  {
   "cell_type": "code",
   "execution_count": null,
   "metadata": {},
   "outputs": [],
   "source": []
  }
 ],
 "metadata": {
  "kernelspec": {
   "display_name": "Python 3",
   "language": "python",
   "name": "python3"
  },
  "language_info": {
   "codemirror_mode": {
    "name": "ipython",
    "version": 3
   },
   "file_extension": ".py",
   "mimetype": "text/x-python",
   "name": "python",
   "nbconvert_exporter": "python",
   "pygments_lexer": "ipython3",
   "version": "3.7.3"
  }
 },
 "nbformat": 4,
 "nbformat_minor": 2
}
